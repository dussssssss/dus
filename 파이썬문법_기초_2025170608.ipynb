{
  "nbformat": 4,
  "nbformat_minor": 0,
  "metadata": {
    "colab": {
      "provenance": [],
      "name": "파이썬문법 기초_2025170608.ipynb",
      "include_colab_link": true
    },
    "kernelspec": {
      "name": "python3",
      "display_name": "Python 3"
    },
    "language_info": {
      "name": "python"
    }
  },
  "cells": [
    {
      "cell_type": "markdown",
      "metadata": {
        "id": "view-in-github",
        "colab_type": "text"
      },
      "source": [
        "<a href=\"https://colab.research.google.com/github/dussssssss/dus/blob/main/%ED%8C%8C%EC%9D%B4%EC%8D%AC%EB%AC%B8%EB%B2%95_%EA%B8%B0%EC%B4%88_2025170608.ipynb\" target=\"_parent\"><img src=\"https://colab.research.google.com/assets/colab-badge.svg\" alt=\"Open In Colab\"/></a>"
      ]
    },
    {
      "cell_type": "markdown",
      "source": [
        "파이썬 전체를 다루기보다는 데이터분석에 필요한 부분 위주로 설명합니다."
      ],
      "metadata": {
        "id": "4qkzxAFBEjKR"
      }
    },
    {
      "cell_type": "code",
      "execution_count": null,
      "metadata": {
        "id": "5lgJ7AKaTJq1"
      },
      "outputs": [],
      "source": [
        "if 3 in [1,2,3,4,5]:\n",
        "    print(\"3 is in the list\")\n",
        "else:\n",
        "    print(\"3 is not in the list\")"
      ]
    },
    {
      "cell_type": "markdown",
      "source": [
        "**입출력**"
      ],
      "metadata": {
        "id": "WOL0mF2DFYp-"
      }
    },
    {
      "cell_type": "code",
      "source": [
        "### 입출력 예제\n",
        "# print(): 파이썬 출력 함수\n",
        "# input(): 파이썬 입력 함수\n",
        "\n",
        "input(\"이름을 입력해 주세요:\")\n",
        "print(\"프로그래밍의 세계에 오신 것을 환영합니다!\")"
      ],
      "metadata": {
        "id": "C8XQ_VVZGNzC"
      },
      "execution_count": null,
      "outputs": []
    },
    {
      "cell_type": "markdown",
      "source": [
        "**1. 변수**"
      ],
      "metadata": {
        "id": "5-RKpyvLGfuV"
      }
    },
    {
      "cell_type": "code",
      "source": [
        "# 변수 예제\n",
        "# input()은 입력받은 값을 리턴해준다. 변수를 지정하면 계속해서 사용이 가능합니다.\n",
        "\n",
        "# 변수 미사용\n",
        "print(input(\"이름을 입력해주세요:\") + \"님, 프로그래밍의 세계에 오신 것을 환영합니다!\")\n",
        "\n",
        "# 변수 사용\n",
        "name = input(\"이름을 입력해주세요:\")\n",
        "print(name + \"님, 프로그래밍의 세계에 오신 것을 환영합니다!\")"
      ],
      "metadata": {
        "id": "YQcoFZHTGdPU"
      },
      "execution_count": null,
      "outputs": []
    },
    {
      "cell_type": "markdown",
      "source": [
        "**2. 상수**"
      ],
      "metadata": {
        "id": "f2-nQbzSGxkR"
      }
    },
    {
      "cell_type": "code",
      "source": [
        "print(1)\n",
        "print(\"1\")"
      ],
      "metadata": {
        "id": "udcam-HCGzqu"
      },
      "execution_count": null,
      "outputs": []
    },
    {
      "cell_type": "markdown",
      "source": [
        "**3, 예약어, 내장함수**"
      ],
      "metadata": {
        "id": "4nRdjc0GGqj4"
      }
    },
    {
      "cell_type": "code",
      "source": [
        "### 예약어 확인 코드\n",
        "import keyword\n",
        "print(keyword.kwlist)\n",
        "\n",
        "### 예악어라도 사용할 수 있어요\n",
        "\n",
        "input_name = input(\"이름을 입력해주세요\")\n",
        "return_value = 1+3"
      ],
      "metadata": {
        "id": "TUg8M5ENGuQB"
      },
      "execution_count": null,
      "outputs": []
    },
    {
      "cell_type": "markdown",
      "source": [
        "**연산자**"
      ],
      "metadata": {
        "id": "h2oveVoNrqiF"
      }
    },
    {
      "cell_type": "code",
      "source": [
        "print(\"1. 산술 연산자 (Arithmetic Operators)\")\n",
        "print(\"가장 기본적인 수학 계산에 사용됩니다.\\n\")\n",
        "\n",
        "# 계산을 위한 변수 설정\n",
        "a = 10\n",
        "b = 3\n",
        "\n",
        "print(f\"변수 설정: a = {a}, b = {b}\")\n",
        "print(\"---------------------------------------------\")\n",
        "print(f\"a + b (더하기)   = {a + b}\")\n",
        "print(f\"a - b (빼기)     = {a - b}\")\n",
        "print(f\"a * b (곱하기)   = {a * b}\")\n",
        "print(f\"a / b (나누기)   = {a / b}\")\n",
        "print(f\"a // b (몫)      = {a // b}\")\n",
        "print(f\"a % b (나머지)   = {a % b}\")\n",
        "print(f\"a ** b (거듭제곱) = {a ** b}\")"
      ],
      "metadata": {
        "id": "Y9kr4CO3rpkx"
      },
      "execution_count": null,
      "outputs": []
    },
    {
      "cell_type": "code",
      "source": [
        "print(\"\\n\\n2. 할당 연산자 (Assignment Operators)\")\n",
        "print(\"변수에 값을 저장(할당)하거나, 연산 후 다시 저장할 때 사용됩니다.\\n\")\n",
        "\n",
        "x = 5\n",
        "print(f\"초기값: x = {x}\")\n",
        "print(\"---------------------------------------------\")\n",
        "x += 2  # x = x + 2 와 동일\n",
        "print(f\"x += 2  (x에 2를 더한 후 할당) -> x = {x}\")\n",
        "x -= 3  # x = x - 3 와 동일\n",
        "print(f\"x -= 3  (x에서 3을 뺀 후 할당) -> x = {x}\")\n",
        "x *= 4  # x = x * 4 와 동일\n",
        "print(f\"x *= 4  (x에 4를 곱한 후 할당) -> x = {x}\")"
      ],
      "metadata": {
        "id": "C13X3uQasgSv"
      },
      "execution_count": null,
      "outputs": []
    },
    {
      "cell_type": "code",
      "source": [
        "print(\"\\n\\n3. 비교 연산자 (Comparison Operators)\")\n",
        "print(\"두 값을 비교하여 True(참) 또는 False(거짓)를 반환합니다.\\n\")\n",
        "\n",
        "# 비교를 위한 변수 설정\n",
        "p = 10\n",
        "q = 20\n",
        "\n",
        "print(f\"변수 설정: p = {p}, q = {q}\")\n",
        "print(\"---------------------------------------------\")\n",
        "print(f\"p == q (같은가?)      -> {p == q}\")\n",
        "print(f\"p != q (다른가?)      -> {p != q}\")\n",
        "print(f\"p > q  (p가 큰가?)    -> {p > q}\")\n",
        "print(f\"p < q  (p가 작은가?)  -> {p < q}\")\n",
        "print(f\"p >= 10 (p가 10보다 크거나 같은가?) -> {p >= 10}\")"
      ],
      "metadata": {
        "id": "4GFijg-psgkX"
      },
      "execution_count": null,
      "outputs": []
    },
    {
      "cell_type": "code",
      "source": [
        "print(\"\\n\\n4. 논리 연산자 (Logical Operators)\")\n",
        "print(\"여러 개의 조건을 조합하여 True 또는 False를 결정합니다.\\n\")\n",
        "\n",
        "is_student = True\n",
        "has_book = False\n",
        "\n",
        "print(f\"상황: 학생인가? {is_student}, 책이 있는가? {has_book}\")\n",
        "print(\"---------------------------------------------\")\n",
        "print(f\"학생이고(and) 책도 있는가? -> {is_student and has_book}\")\n",
        "print(f\"학생이거나(or) 책이 있는가? -> {is_student or has_book}\")\n",
        "print(f\"학생이 아닌가(not)?        -> {not is_student}\")"
      ],
      "metadata": {
        "id": "uUDWfrwCsgtm"
      },
      "execution_count": null,
      "outputs": []
    },
    {
      "cell_type": "code",
      "source": [
        "print(\"\\n\\n5. 멤버 연산자 (Membership Operators)\")\n",
        "print(\"어떤 값이 리스트나 문자열 같은 그룹 안에 포함되어 있는지 확인합니다.\\n\")\n",
        "\n",
        "my_list = [10, 20, 30, 'apple']\n",
        "print(f\"리스트: {my_list}\")\n",
        "print(\"---------------------------------------------\")\n",
        "print(f\"리스트에 20이 포함되어 있는가? (in)     -> {20 in my_list}\")\n",
        "print(f\"리스트에 'banana'가 없는가? (not in) -> {'banana' not in my_list}\")"
      ],
      "metadata": {
        "id": "jx5u8CEWsg3y"
      },
      "execution_count": null,
      "outputs": []
    },
    {
      "cell_type": "code",
      "source": [
        "print(\"\\n\\n6. 연산자 우선순위 (Operator Precedence)\")\n",
        "print(\"수학처럼 연산에는 순서가 있습니다. 괄호()를 사용하면 순서를 바꿀 수 있습니다.\\n\")\n",
        "\n",
        "# 괄호가 없을 때는 곱셈(*)이 덧셈(+)보다 먼저 계산됩니다.\n",
        "result_no_parentheses = 2 + 3 * 4\n",
        "print(f\"괄호가 없을 때: 2 + 3 * 4 = {result_no_parentheses}\")\n",
        "\n",
        "# 괄호가 있을 때는 괄호 안의 연산이 가장 먼저 계산됩니다.\n",
        "result_with_parentheses = (2 + 3) * 4\n",
        "print(f\"괄호가 있을 때: (2 + 3) * 4 = {result_with_parentheses}\")"
      ],
      "metadata": {
        "id": "mQKeBr9Vs2k4"
      },
      "execution_count": null,
      "outputs": []
    },
    {
      "cell_type": "markdown",
      "source": [
        "**4. 자료형**\n",
        "\n",
        "자료형: 컴퓨터에게 데이터의 형태를 전달"
      ],
      "metadata": {
        "id": "bG37B9wsG9gD"
      }
    },
    {
      "cell_type": "code",
      "source": [
        "### 자료형 예제\n",
        "print(type(6))\n",
        "print(type(6.6))\n",
        "print(type(6j))\n",
        "\n",
        "print(type('6'))\n",
        "print(type(\"6.6\"))\n",
        "print(type(\"6j\"))\n",
        "print(type('''a'''))\n",
        "print(type(\"\"\"ab\"\"\"))\n",
        "\n",
        "print(type([1,2,3,4,5]))\n",
        "print(type([\"1\",\"2\",\"3\",\"4\",\"5\"]))\n",
        "print(type([1,2,\"3\",4,5]))\n",
        "\n",
        "print(type(True))\n",
        "print(type(False))"
      ],
      "metadata": {
        "id": "FHXWtALuG9yT"
      },
      "execution_count": null,
      "outputs": []
    },
    {
      "cell_type": "markdown",
      "source": [
        "4.1.1 숫자형"
      ],
      "metadata": {
        "id": "rijQfhw2HOVw"
      }
    },
    {
      "cell_type": "code",
      "source": [
        "print(1)\n",
        "print(1.1)\n",
        "print(1j)\n",
        "\n",
        "print(type(1))\n",
        "print(type(1.1))\n",
        "print(type(1j))"
      ],
      "metadata": {
        "id": "bI7ulCgkHRWr"
      },
      "execution_count": null,
      "outputs": []
    },
    {
      "cell_type": "markdown",
      "source": [
        "4.1.2 숫자형 연산"
      ],
      "metadata": {
        "id": "4uMJJqEPHWMD"
      }
    },
    {
      "cell_type": "code",
      "source": [
        "num1 = 9\n",
        "num2 = 2\n",
        "\n",
        "print(num1+num2)\n",
        "print(num1-num2)\n",
        "print(num1*num2)\n",
        "print(num1/num2)\n",
        "print(num1**num2)\n",
        "print(num1//num2)\n",
        "print(num1%num2)"
      ],
      "metadata": {
        "id": "rPofwX59HT2l"
      },
      "execution_count": null,
      "outputs": []
    },
    {
      "cell_type": "markdown",
      "source": [
        "4.2.1 문자열\n",
        "\n"
      ],
      "metadata": {
        "id": "sBU5nzy6IFTJ"
      }
    },
    {
      "cell_type": "code",
      "source": [
        "txt1 = \"'파이썬'은 쉽습니다. \\\"이렇게\\\"도 쓸 수 있습니다.\"\n",
        "print(txt1)\n",
        "txt2 = '\"파이썬\"은 쉽습니다. \\'이렇게\\'도 쓸 수 있습니다.'\n",
        "print(txt2)\n",
        "print()\n",
        "song1 = \"동해물과 백두산이 마르고 닳도록 하느님이 보우하사 우리나라 만세 무궁화 삼천리 화려 강산 대한 사람 대한으로 길이 보전하세\"\n",
        "print(song1)\n",
        "song2 = \"남산 위에 저 소나무 철갑을 두른 듯\\n바람 서리 불변함은 우리 기상일세\\n무궁화 삼천리 화려 강산\\n대한 사람 대한으로 길이 보전하세\"\n",
        "print(song2)\n",
        "song3 = \"\"\"가을 하늘 공활한데 높고 구름 없이\n",
        "밝은 달은 우리 가슴 일편단심일세\n",
        "무궁화 삼천리 화려 강산\n",
        "대한 사람 대한으로 길이 보전하세\"\"\"\n",
        "print(song3)\n",
        "song4 = '''이 기상과 이 맘으로 충성을 다하여\n",
        "괴로우나 즐거우나 나라 사랑하세\n",
        "무궁화 삼천리 화려 강산\n",
        "대한 사람 대한으로 길이 보전하세'''\n",
        "print(song4)"
      ],
      "metadata": {
        "id": "Bcu4c1hOH0DV"
      },
      "execution_count": null,
      "outputs": []
    },
    {
      "cell_type": "markdown",
      "source": [
        "4.2.2 문자열 인덱싱\n",
        "\n"
      ],
      "metadata": {
        "id": "faKMPmPJIMgN"
      }
    },
    {
      "cell_type": "markdown",
      "source": [
        "컴퓨터의 넘버링방식<br>\n",
        "\n",
        "2, 3, ..., 12를 ... 없이 표현하려면 다음과 같은 네 가지의 선택지가 있습니다.\n",
        "\n",
        "1. $2 ≤ i < 13$\n",
        "2. $1 < i ≤ 12$\n",
        "3. $2 ≤ i ≤ 12$\n",
        "4. $1 < i < 13$\n",
        "\n",
        "0, 1, ..., 9까지의 정수의 집합 표현\n",
        "\n",
        "$0 \\le i < 10$\n",
        "\n",
        "> 요약 </br>\n",
        "> * Half-open interval: 시작 숫자는 포함하고 끝 숫자는 포함하지 않는 표기법 </br>\n",
        "> * zero-based numbering: 시작 숫자는 0부터 셈 </br>\n",
        "> 참고: https://www.cs.utexas.edu/users/EWD/transcriptions/EWD08xx/EWD831.html\n"
      ],
      "metadata": {
        "id": "Z1anrxH1VScc"
      }
    },
    {
      "cell_type": "markdown",
      "source": [
        "![string structure](https://dojang.io/pluginfile.php/8978/mod_page/content/2/025001.png)"
      ],
      "metadata": {
        "id": "BN8vOtAvVvwD"
      }
    },
    {
      "cell_type": "markdown",
      "source": [
        "4.2.3 문자열 연산"
      ],
      "metadata": {
        "id": "LxEXFCBIWQTt"
      }
    },
    {
      "cell_type": "code",
      "source": [
        "txt1 = \"Hello\"\n",
        "txt2 = \"world\"\n",
        "\n",
        "print(txt1)\n",
        "print(txt2)\n",
        "\n",
        "print(txt1[0])\n",
        "print(txt2[-1])\n",
        "\n",
        "print(txt1 + txt2)\n",
        "\n",
        "txt3 = txt1 + \", \" + txt2 + \"!\"\n",
        "print(txt3)\n",
        "\n",
        "print(\"-\" * 20)\n",
        "print(txt3[3:8])\n",
        "print(txt3[-6:-2])\n",
        "print(txt3[5:-1])\n",
        "print(txt3[3:])\n",
        "print(txt3[:4])"
      ],
      "metadata": {
        "id": "cj2V4grgVdop"
      },
      "execution_count": null,
      "outputs": []
    },
    {
      "cell_type": "markdown",
      "source": [
        "4.3.1 리스트"
      ],
      "metadata": {
        "id": "ZFeLSlSNW7Eg"
      }
    },
    {
      "cell_type": "code",
      "source": [
        "person = [\"홍길동\", 23, \"000821-7890123\", \"010-1234-5678\"]\n",
        "odd = [1, 3, 5, 7, 9, 11, 13]\n",
        "even = [2, 4, 6, 8, 10, 12, 14]\n",
        "rainbow = [\"red\", \"orange\", \"yellow\", \"green\", \"blue\", \"indigo\", \"violet\"]\n",
        "list_2d = [\"1\", \"2\", [\"3-1\", \"3-2\"]]\n",
        "list_3d = [\"1\", \"2\", [\"3-1\", [\"3-2-1\", \"3-2-2\"]]]\n",
        "\n",
        "print(len(person), person)\n",
        "print(len(odd), odd)\n",
        "print(len(even), even)\n",
        "print(len(rainbow), rainbow)\n",
        "print(len(list_2d), list_2d)\n",
        "print(len(list_3d), list_3d)"
      ],
      "metadata": {
        "id": "B6wfIR5NWY-m"
      },
      "execution_count": null,
      "outputs": []
    },
    {
      "cell_type": "markdown",
      "source": [
        "4.3.2 리스트 인덱싱"
      ],
      "metadata": {
        "id": "H8vwHth7XJJl"
      }
    },
    {
      "cell_type": "code",
      "source": [
        "print(len(list_3d), list_3d)\n",
        "print(len(list_3d[2]), list_3d[2])\n",
        "print(len(list_3d[2][1]), list_3d[2][1])\n",
        "print(len(list_3d[2][1][1]), list_3d[2][1][1])"
      ],
      "metadata": {
        "id": "w4QuiR-cXN5Q"
      },
      "execution_count": null,
      "outputs": []
    },
    {
      "cell_type": "markdown",
      "source": [
        "![2d_list](https://mblogthumb-phinf.pstatic.net/MjAxNzA2MjhfMTkx/MDAxNDk4NjE5MDMyMjQ5.eemG-qGmqnHG06ajRybaN912Vfd9_QI2OyG2g9nMJPog.XOherxEQYVyuqa3TbsNKtE0-dPDo9q9_olGXBHEFtLUg.PNG.huhsamecoding/%EC%8A%AC%EB%9D%BC%EC%9D%B4%EB%93%9C1.PNG?type=w800)"
      ],
      "metadata": {
        "id": "sTCAwQylbd-y"
      }
    },
    {
      "cell_type": "markdown",
      "source": [
        "4.3.3 리스트 연산"
      ],
      "metadata": {
        "id": "j89JU4qcbhbv"
      }
    },
    {
      "cell_type": "code",
      "source": [
        "a = [1, 2, 3]\n",
        "b = [4, 5, 6]\n",
        "\n",
        "# 1. 덧셈 (리스트 연결)\n",
        "print(a + b)\n",
        "\n",
        "# 2. 곱셈 (반복)\n",
        "print(a * 2)\n",
        "\n",
        "# 3. 인덱싱\n",
        "print(a[0])\n",
        "print(a[-1])\n",
        "\n",
        "# 4. 슬라이싱\n",
        "print(a[0:2])\n",
        "print(b[1:])\n",
        "\n",
        "# 5. 원소 추가/삭제\n",
        "a.append(4)\n",
        "print(a)\n",
        "\n",
        "a.remove(2)\n",
        "print(a)"
      ],
      "metadata": {
        "id": "kcOcgFAQXPZA"
      },
      "execution_count": null,
      "outputs": []
    },
    {
      "cell_type": "markdown",
      "source": [
        "4.4.1 불(Bool), 불린(Boolean)¶"
      ],
      "metadata": {
        "id": "iVLtc8xDuamJ"
      }
    },
    {
      "cell_type": "code",
      "source": [
        "print(\"불 참/거짓 판별\")\n",
        "print(True)\n",
        "print(False)\n",
        "print(\"숫자형 참/거짓 판별\")\n",
        "print(bool(1))\n",
        "print(bool(1.1))\n",
        "print(bool(0))\n",
        "print(\"문자열 참/거짓 판별\")\n",
        "print(bool(\"0\"))\n",
        "print(bool(\"\"))\n",
        "print(\"리스트 참/거짓 판별\")\n",
        "print(bool([1]))\n",
        "print(bool([]))\n",
        "print(\"연산식 참/거짓 판별\")\n",
        "print(1 == 0)\n",
        "print(1 > 0)\n",
        "print(1 < 0)\n",
        "print(1 in [1,2,3])\n",
        "print(11 in [1,2,3])"
      ],
      "metadata": {
        "id": "XIIZ74cUufoN"
      },
      "execution_count": null,
      "outputs": []
    },
    {
      "cell_type": "markdown",
      "source": [
        "**5. 프로그램 제어구조**"
      ],
      "metadata": {
        "id": "8luIZXXwvghM"
      }
    },
    {
      "cell_type": "markdown",
      "source": [
        "![image.png](data:image/png;base64,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)"
      ],
      "metadata": {
        "id": "AH0JK7xevNfh"
      }
    },
    {
      "cell_type": "markdown",
      "source": [
        "5.1 순차구조"
      ],
      "metadata": {
        "id": "kaFUxVLHwG98"
      }
    },
    {
      "cell_type": "code",
      "source": [
        "print(1)\n",
        "print(2)\n",
        "print(3)\n",
        "print(4)"
      ],
      "metadata": {
        "id": "9HLS60wDvMw6"
      },
      "execution_count": null,
      "outputs": []
    },
    {
      "cell_type": "markdown",
      "source": [
        "5.2 조건(선택) 구조 - if"
      ],
      "metadata": {
        "id": "QGRQuQ5pwEy-"
      }
    },
    {
      "cell_type": "markdown",
      "source": [
        "![code_block2](https://www.scaler.com/topics/images/what-do-we-use-to-define-a-block-of-code-in-python-language_thumbnail.webp)"
      ],
      "metadata": {
        "id": "rH8zd2QoG92S"
      }
    },
    {
      "cell_type": "code",
      "source": [
        "x = 5\n",
        "y = 10\n",
        "\n",
        "print(1)\n",
        "\n",
        "if(x > y):\n",
        "    print(\"x는 y보다 크다.\")\n",
        "    print(2)\n",
        "else:\n",
        "    print(\"y는 x보다 크다.\")\n",
        "    print(3)\n",
        "\n",
        "print(4)\n",
        "\n",
        "z = int(input(\"1에서 12사이의 값을 입력해주세요: \"))\n",
        "\n",
        "if z in [3,4,5]:\n",
        "    print(\"봄 입니다.\")\n",
        "    print(5)\n",
        "elif z in [6,7,8]:\n",
        "    print(\"여름 입니다.\")\n",
        "    print(6)\n",
        "elif z in [9,10,11]:\n",
        "    print(\"가을 입니다.\")\n",
        "    print(7)\n",
        "else:\n",
        "    print(\"겨울 입니다.\")\n",
        "    print(8)\n",
        "\n",
        "print(9)"
      ],
      "metadata": {
        "id": "gqWhuqmdvq0B"
      },
      "execution_count": null,
      "outputs": []
    },
    {
      "cell_type": "code",
      "source": [
        "z = input(\"1에서 12사이의 값을 입력해주세요: \")\n",
        "\n",
        "print(type(z))\n",
        "print(type(int(z)))\n",
        "print(type(float(z)))"
      ],
      "metadata": {
        "id": "kLCFShuHv2ko"
      },
      "execution_count": null,
      "outputs": []
    },
    {
      "cell_type": "markdown",
      "source": [
        "\n",
        "5.3 반복 구조 - while & for"
      ],
      "metadata": {
        "id": "pO7AnNJkHzqY"
      }
    },
    {
      "cell_type": "code",
      "source": [
        "number = int(input(\"원하는 단을 입력하세요.: \"))\n",
        "\n",
        "print(str(number) + \"단\")\n",
        "\n",
        "print(number, \" * \", 1 , \" = \", (number * 1))\n",
        "print(number, \" * \", 2 , \" = \", (number * 2))\n",
        "print(number, \" * \", 3 , \" = \", (number * 3))\n",
        "print(number, \" * \", 4 , \" = \", (number * 4))\n",
        "print(number, \" * \", 5 , \" = \", (number * 5))\n",
        "print(number, \" * \", 6 , \" = \", (number * 6))\n",
        "print(number, \" * \", 7 , \" = \", (number * 7))\n",
        "print(number, \" * \", 8 , \" = \", (number * 8))\n",
        "print(number, \" * \", 9 , \" = \", (number * 9))"
      ],
      "metadata": {
        "id": "7SQd7fxMH0P2"
      },
      "execution_count": null,
      "outputs": []
    },
    {
      "cell_type": "code",
      "source": [
        "number = int(input(\"원하는 단을 입력하세요.: \"))\n",
        "\n",
        "print(str(number) + \"단\")\n",
        "\n",
        "for i in [1,2,3,4,5,6,7,8,9]:\n",
        "    print(number, \" * \", i , \" = \", (number * i))\n"
      ],
      "metadata": {
        "id": "SlFqC3BzIG3T"
      },
      "execution_count": null,
      "outputs": []
    },
    {
      "cell_type": "code",
      "source": [
        "print(range(1,10), list(range(1,10)))\n",
        "print(range(1,10,1), list(range(1,10,1)))\n",
        "print(range(1,10,2), list(range(1,10,2)))\n",
        "print(range(9,0,-1), list(range(9,0,-1)))"
      ],
      "metadata": {
        "id": "XBSljnbtIJL0"
      },
      "execution_count": null,
      "outputs": []
    },
    {
      "cell_type": "code",
      "source": [
        "for i in range(1,10):\n",
        "    print(2, \" * \", i , \" = \", (2 * i))\n",
        "\n",
        "for i in range(1,10):\n",
        "    print(3, \" * \", i , \" = \", (3 * i))\n",
        "\n",
        "print(\"...\")\n",
        "\n",
        "for i in range(1,10):\n",
        "    print(9, \" * \", i , \" = \", (9 * i))\n"
      ],
      "metadata": {
        "id": "wuWgi-aOIKl-"
      },
      "execution_count": null,
      "outputs": []
    },
    {
      "cell_type": "code",
      "source": [
        "for number in range(2,10):\n",
        "    for i in range(1,10):\n",
        "        print(number, \" * \", i , \" = \", (number * i))"
      ],
      "metadata": {
        "id": "SG_Br9LvINCl"
      },
      "execution_count": null,
      "outputs": []
    },
    {
      "cell_type": "code",
      "source": [
        "# 무한 반복 구조 미적용\n",
        "menu = int(input(\"메뉴를 선택해주세요.(1~4): \"))\n",
        "\n",
        "if(menu == 1):\n",
        "    print(\"1번 메뉴입니다.\")\n",
        "elif(menu == 2):\n",
        "    print(\"2번 메뉴입니다.\")\n",
        "elif(menu == 3):\n",
        "    print(\"3번 메뉴입니다.\")\n",
        "elif(menu == 4):\n",
        "    print(\"4번 메뉴입니다.\")\n",
        "else:\n",
        "    print(\"잘못된 메뉴입니다.\")"
      ],
      "metadata": {
        "id": "qM_W8ya4QQGO"
      },
      "execution_count": null,
      "outputs": []
    },
    {
      "cell_type": "code",
      "source": [
        "# 무한 반복 구조 적용\n",
        "while(True):\n",
        "    menu = int(input(\"메뉴를 선택해주세요.(1~4): \"))\n",
        "\n",
        "    if(menu == 1):\n",
        "        print(\"1번 메뉴입니다.\")\n",
        "    elif(menu == 2):\n",
        "        print(\"2번 메뉴입니다.\")\n",
        "    elif(menu == 3):\n",
        "        print(\"3번 메뉴입니다.\")\n",
        "    elif(menu == 4):\n",
        "        print(\"4번 메뉴입니다.\")\n",
        "    else:\n",
        "        print(\"잘못된 메뉴입니다.\")\n",
        "        # break"
      ],
      "metadata": {
        "id": "Cq6R_zCOQX--"
      },
      "execution_count": null,
      "outputs": []
    },
    {
      "cell_type": "markdown",
      "source": [
        "[실습 1]\n",
        "본인 학과, 학번, 이름을 입력받아 출력하는 프로그램을 작성하세요.\n"
      ],
      "metadata": {
        "id": "nUovz-d0qhck"
      }
    },
    {
      "cell_type": "code",
      "source": [
        "major = input(\"학과를 입력하세요: \")\n",
        "student_id = input(\"학번을 입력하세요: \")\n",
        "name = input(\"이름을 입력하세요: \")\n",
        "\n",
        "print(f\"학과: {major}\")\n",
        "print(f\"학번: {student_id}\")\n",
        "print(f\"이름: {name}\")"
      ],
      "metadata": {
        "id": "cBOIvGCkqjxL",
        "colab": {
          "base_uri": "https://localhost:8080/"
        },
        "outputId": "57337fe8-8aef-4346-b009-08af265d357a"
      },
      "execution_count": null,
      "outputs": [
        {
          "output_type": "stream",
          "name": "stdout",
          "text": [
            "학과를 입력하세요: 건축학과\n",
            "학번을 입력하세요: 2025170608\n",
            "이름을 입력하세요: 박서연\n",
            "학과: 건축학과\n",
            "학번: 2025170608\n",
            "이름: 박서연\n"
          ]
        }
      ]
    },
    {
      "cell_type": "markdown",
      "source": [
        "[실습2] 사과와 주스를 사려고 합니다. 총 얼마를 내야 하는지, 그리고 낸 돈에서 거스름돈은 얼마인지 계산하는 프로그램을 만들어보세요.\n",
        "\n",
        "사과 1개 가격: 1,500원\n",
        "\n",
        "주스 1병 가격: 2,500원\n",
        "\n",
        "내가 산 개수: 사과 3개, 주스 2병\n",
        "\n",
        "내가 낸 돈: 10,000원"
      ],
      "metadata": {
        "id": "d_UuvBsxt9yL"
      }
    },
    {
      "cell_type": "code",
      "source": [
        "apple_price = 1500\n",
        "juice_price = 2500\n",
        "\n",
        "apple_count = int(input(\"사과의 개수:\"))\n",
        "juice_count = int(input(\"주스의 개수:\"))\n",
        "\n",
        "total_price = (apple_price * apple_count) + (juice_price * juice_count)\n",
        "print(f\"총 금액: {total_price}원\")\n",
        "\n",
        "money_given = int(input(\"낸 돈을 입력하세요 (원): \"))\n",
        "\n",
        "change = money_given - total_price\n",
        "\n",
        "print(f\"거스름돈: {change}원\")"
      ],
      "metadata": {
        "id": "DrAMMRzauBmX",
        "colab": {
          "base_uri": "https://localhost:8080/"
        },
        "outputId": "140ec17e-f87f-43bb-9c70-868f318c5db7"
      },
      "execution_count": null,
      "outputs": [
        {
          "output_type": "stream",
          "name": "stdout",
          "text": [
            "사과의 개수:3\n",
            "주스의 개수:2\n",
            "총 금액: 9500원\n",
            "낸 돈을 입력하세요 (원): 10000\n",
            "거스름돈: 500원\n"
          ]
        }
      ]
    },
    {
      "cell_type": "markdown",
      "source": [
        "[실습3] 인기 있는 놀이기구 '자이언트 드롭'은 안전 문제로 탑승 조건이 있습니다. 나이와 키 정보를 보고 이 사람이 탑승 가능한지 True 또는 False로 알려주는 프로그램을 만들어보세요.\n",
        "\n",
        "탑승 조건: 나이는 10살 이상 그리고 키는 140cm 이상이어야 합니다.\n",
        "\n",
        "방문객 정보: 나이 12살, 키 135cm\n",
        "\n",
        "힌트: 크거나 같음(>=) 비교 연산자와 and 논리 연산자를 사용해 보세요."
      ],
      "metadata": {
        "id": "bK-QgqYmuC1X"
      }
    },
    {
      "cell_type": "code",
      "source": [
        "age = int(input(\"나이를 입력하세요: \"))\n",
        "height = int(input(\"키(cm)를 입력하세요: \"))\n",
        "\n",
        "can_ride = (age >= 10) and (height >= 140)\n",
        "\n",
        "print(\"탑승 가능 여부:\", can_ride)"
      ],
      "metadata": {
        "id": "MY5Sne2cuW95",
        "colab": {
          "base_uri": "https://localhost:8080/"
        },
        "outputId": "5ef293b4-ef32-47c7-b4bc-2acbb29e9c0d"
      },
      "execution_count": null,
      "outputs": [
        {
          "output_type": "stream",
          "name": "stdout",
          "text": [
            "나이를 입력하세요: 12\n",
            "키(cm)를 입력하세요: 135\n",
            "탑승 가능 여부: False\n"
          ]
        }
      ]
    },
    {
      "cell_type": "markdown",
      "source": [
        "[실습4] 어떤 숫자가 주어졌을 때, 이 숫자가 짝수인지 홀수인지 판별하는 프로그램을 만들어보세요. 짝수라면 \"짝수입니다.\"를, 홀수라면 \"홀수입니다.\"를 출력하게 합니다.\n",
        "\n",
        "판별할 숫자: 7\n",
        "\n",
        "힌트:\n",
        "어떤 숫자를 2로 나누었을 때 나머지가 0이면 짝수입니다. 나머지 연산자(%)와 같음 비교 연산자(==)를 사용해 보세요. if-else 조건문이 필요합니다."
      ],
      "metadata": {
        "id": "tEaCyXiZuXQv"
      }
    },
    {
      "cell_type": "code",
      "source": [
        "num = int(input(\"판별할 숫자를 입력하세요: \"))\n",
        "\n",
        "if num % 2 == 0:\n",
        "    print(\"짝수입니다.\")\n",
        "else:\n",
        "    print(\"홀수입니다.\")"
      ],
      "metadata": {
        "id": "VW1QDzFIubkC",
        "colab": {
          "base_uri": "https://localhost:8080/"
        },
        "outputId": "9f1cd212-0327-49bb-cc7d-b1d4b3bf6910"
      },
      "execution_count": null,
      "outputs": [
        {
          "output_type": "stream",
          "name": "stdout",
          "text": [
            "판별할 숫자를 입력하세요: 7\n",
            "홀수입니다.\n"
          ]
        }
      ]
    }
  ]
}