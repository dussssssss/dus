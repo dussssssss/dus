{
  "nbformat": 4,
  "nbformat_minor": 0,
  "metadata": {
    "colab": {
      "provenance": [],
      "include_colab_link": true
    },
    "kernelspec": {
      "name": "python3",
      "display_name": "Python 3"
    },
    "language_info": {
      "name": "python"
    }
  },
  "cells": [
    {
      "cell_type": "markdown",
      "metadata": {
        "id": "view-in-github",
        "colab_type": "text"
      },
      "source": [
        "<a href=\"https://colab.research.google.com/github/dussssssss/dus/blob/main/2025_09_18_%EC%8B%A4%EC%8A%B52_2025170608.ipynb\" target=\"_parent\"><img src=\"https://colab.research.google.com/assets/colab-badge.svg\" alt=\"Open In Colab\"/></a>"
      ]
    },
    {
      "cell_type": "markdown",
      "source": [
        "[실습 1]\n",
        "본인 학과, 학번, 이름을 입력받아 출력하는 프로그램을 작성하세요."
      ],
      "metadata": {
        "id": "vcYEVSOjnXu_"
      }
    },
    {
      "cell_type": "code",
      "source": [
        "major = input(\"학과를 입력하세요: \")\n",
        "student_id = input(\"학번을 입력하세요: \")\n",
        "name = input(\"이름을 입력하세요: \")\n",
        "\n",
        "print(f\"학과: {major}\")\n",
        "print(f\"학번: {student_id}\")\n",
        "print(f\"이름: {name}\")"
      ],
      "metadata": {
        "id": "bmMQJ6hiG1LH",
        "colab": {
          "base_uri": "https://localhost:8080/"
        },
        "outputId": "b031bf09-4049-473a-ffde-d8608e1fd3e1"
      },
      "execution_count": 1,
      "outputs": [
        {
          "output_type": "stream",
          "name": "stdout",
          "text": [
            "학과를 입력하세요: 건축학과\n",
            "학번을 입력하세요: 25학번\n",
            "이름을 입력하세요: 박서연\n",
            "학과: 건축학과\n",
            "학번: 25학번\n",
            "이름: 박서연\n"
          ]
        }
      ]
    },
    {
      "cell_type": "markdown",
      "source": [
        "[실습2] 사과와 주스를 사려고 합니다. 총 얼마를 내야 하는지, 그리고 낸 돈에서 거스름돈은 얼마인지 계산하는 프로그램을 만들어보세요.\n",
        "\n",
        "사과 1개 가격: 1,500원\n",
        "\n",
        "주스 1병 가격: 2,500원\n",
        "\n",
        "내가 산 개수: 사과 3개, 주스 2병\n",
        "\n",
        "내가 낸 돈: 10,000원"
      ],
      "metadata": {
        "id": "cej19X8e5h7c"
      }
    },
    {
      "cell_type": "code",
      "source": [
        "apple_price = 1500\n",
        "juice_price = 2500\n",
        "\n",
        "apple_count = int(input(\"사과의 개수:\"))\n",
        "juice_count = int(input(\"주스의 개수:\"))\n",
        "\n",
        "total_price = (apple_price * apple_count) + (juice_price * juice_count)\n",
        "print(f\"총 금액: {total_price}원\")\n",
        "\n",
        "money_given = int(input(\"낸 돈을 입력하세요 (원): \"))\n",
        "\n",
        "change = money_given - total_price\n",
        "\n",
        "print(f\"거스름돈: {change}원\")\n"
      ],
      "metadata": {
        "id": "fxp8NBGF5iRm",
        "colab": {
          "base_uri": "https://localhost:8080/"
        },
        "outputId": "df9e519f-da98-46de-f2c9-663f8eb6ffe7"
      },
      "execution_count": 6,
      "outputs": [
        {
          "output_type": "stream",
          "name": "stdout",
          "text": [
            "사과의 개수:3\n",
            "주스의 개수:2\n",
            "총 금액: 9500원\n",
            "낸 돈을 입력하세요 (원): 10000\n",
            "거스름돈: 500원\n"
          ]
        }
      ]
    },
    {
      "cell_type": "markdown",
      "source": [
        "[실습3] 인기 있는 놀이기구 '자이언트 드롭'은 안전 문제로 탑승 조건이 있습니다. 나이와 키 정보를 보고 이 사람이 탑승 가능한지 True 또는 False로 알려주는 프로그램을 만들어보세요.\n",
        "\n",
        "탑승 조건: 나이는 10살 이상 그리고 키는 140cm 이상이어야 합니다.\n",
        "\n",
        "방문객 정보: 나이 12살, 키 135cm\n",
        "\n",
        "힌트: 크거나 같음(>=) 비교 연산자와 and 논리 연산자를 사용해 보세요."
      ],
      "metadata": {
        "id": "q5_qn99O5ijy"
      }
    },
    {
      "cell_type": "code",
      "source": [
        "age = int(input(\"나이를 입력하세요: \"))\n",
        "height = int(input(\"키(cm)를 입력하세요: \"))\n",
        "\n",
        "can_ride = (age >= 10) and (height >= 140)\n",
        "\n",
        "print(\"탑승 가능 여부:\", can_ride)"
      ],
      "metadata": {
        "id": "la6gsSz55i2l",
        "colab": {
          "base_uri": "https://localhost:8080/"
        },
        "outputId": "4ce099d6-882e-4c64-f117-5ac29516892f"
      },
      "execution_count": 3,
      "outputs": [
        {
          "output_type": "stream",
          "name": "stdout",
          "text": [
            "나이를 입력하세요: 12\n",
            "키(cm)를 입력하세요: 135\n",
            "탑승 가능 여부: False\n"
          ]
        }
      ]
    },
    {
      "cell_type": "markdown",
      "source": [
        "[실습4] 어떤 숫자가 주어졌을 때, 이 숫자가 짝수인지 홀수인지 판별하는 프로그램을 만들어보세요. 짝수라면 \"짝수입니다.\"를, 홀수라면 \"홀수입니다.\"를 출력하게 합니다.\n",
        "\n",
        "판별할 숫자: 7\n",
        "\n",
        "힌트:\n",
        "어떤 숫자를 2로 나누었을 때 나머지가 0이면 짝수입니다. 나머지 연산자(%)와 같음 비교 연산자(==)를 사용해 보세요. if-else 조건문이 필요합니다."
      ],
      "metadata": {
        "id": "67zmsBYd5jM9"
      }
    },
    {
      "cell_type": "code",
      "source": [
        "num = int(input(\"판별할 숫자를 입력하세요: \"))\n",
        "\n",
        "if num % 2 == 0:\n",
        "    print(\"짝수입니다.\")\n",
        "else:\n",
        "    print(\"홀수입니다.\")"
      ],
      "metadata": {
        "id": "UyJ00zlo5jdC",
        "colab": {
          "base_uri": "https://localhost:8080/"
        },
        "outputId": "8bdaac99-25ce-4e17-81a8-544be85c55a4"
      },
      "execution_count": 7,
      "outputs": [
        {
          "output_type": "stream",
          "name": "stdout",
          "text": [
            "판별할 숫자를 입력하세요: 7\n",
            "홀수입니다.\n"
          ]
        }
      ]
    },
    {
      "cell_type": "markdown",
      "source": [
        "[실습5] weather라는 변수에 오늘의 날씨를 저장합니다. 날씨에 따라 챙겨야 할 준비물을 다르게 알려주는 프로그램을 만들어보세요. weather 변수의 값을 \"비\", \"미세먼지\", \"맑음\", \"구름\" 등으로 바꿔서 테스트해보세요.\n",
        "\n",
        "weather가 \"비\"이면, \"우산을 챙기세요.\"\n",
        "\n",
        "weather가 \"미세먼지\"이면, \"마스크를 챙기세요.\"\n",
        "\n",
        "weather가 \"맑음\"이면, \"선글라스를 챙기세요.\"\n",
        "\n",
        "그 외 다른 날씨이면, \"좋은 하루 보내세요.\"를 출력합니다.\n",
        "\n",
        "힌트: if, elif, else 선택 구조를 사용해서 조건에 따라 다른 문장이 출력되도록 만들어보세요.\n"
      ],
      "metadata": {
        "id": "m8f5W1HEBNEX"
      }
    },
    {
      "cell_type": "code",
      "source": [
        "weather = input(\"오늘의 날씨를 입력하세요 (예: 비, 미세먼지, 맑음, 구름): \")\n",
        "\n",
        "if weather == \"비\":\n",
        "    print(\"우산을 챙기세요.\")\n",
        "elif weather == \"미세먼지\":\n",
        "    print(\"마스크를 챙기세요.\")\n",
        "elif weather == \"맑음\":\n",
        "    print(\"선글라스를 챙기세요.\")\n",
        "else:\n",
        "    print(\"좋은 하루 보내세요.\")\n"
      ],
      "metadata": {
        "id": "nX-b2To3BNb1",
        "colab": {
          "base_uri": "https://localhost:8080/"
        },
        "outputId": "194b5384-24cd-4f03-9c72-ee5dfe4afa0b"
      },
      "execution_count": 8,
      "outputs": [
        {
          "output_type": "stream",
          "name": "stdout",
          "text": [
            "오늘의 날씨를 입력하세요 (예: 비, 미세먼지, 맑음, 구름): 비\n",
            "우산을 챙기세요.\n"
          ]
        }
      ]
    },
    {
      "cell_type": "markdown",
      "source": [
        "[실습6] 우리 반 학생들의 이름이 담긴 리스트 students가 있습니다. 목록에 있는 모든 학생의 이름을 한 명씩 순서대로 부르며 출석을 확인하는 프로그램을 만들어보세요.\n",
        "\n",
        "출석 명단: [\"김철수\", \"이영희\", \"박지성\", \"김연아\"]\n",
        "\n",
        "출력 형식: \"1번 학생 김철수, 출석 완료!\" 와 같은 형식으로 모든 학생을 출력합니다.\n",
        "\n",
        "힌트: students 리스트와 for 반복문을 사용해 보세요. 학생 번호도 함께 출력하려면 enumerate() 함수를 함께 사용하면 편리합니다."
      ],
      "metadata": {
        "id": "UCZ-zbJ5BOBJ"
      }
    },
    {
      "cell_type": "code",
      "source": [
        "ㅊㅇstudents = [\"김철수\", \"이영희\", \"박지성\", \"김연아\"]\n",
        "\n",
        "for i, name in enumerate(students, start=1):\n",
        "    input_text = input(f\"{i}번 학생 {name}, 출석 했다면 출석이라고 입력: \")\n",
        "\n",
        "    if input_text.strip() == \"출석\":\n",
        "        print(f\"{name} 출석 완료!\")\n",
        "    else:\n",
        "        print(f\"{name} 출석 실패.\")"
      ],
      "metadata": {
        "id": "bNm8uWowBOML",
        "colab": {
          "base_uri": "https://localhost:8080/"
        },
        "outputId": "e27d991a-71b8-48d1-c582-081ebe81736a"
      },
      "execution_count": 12,
      "outputs": [
        {
          "output_type": "stream",
          "name": "stdout",
          "text": [
            "1번 학생 김철수, 출석 했다면 출석이라고 입력: 출석\n",
            "김철수 출석 완료!\n",
            "2번 학생 이영희, 출석 했다면 출석이라고 입력: 출석\n",
            "이영희 출석 완료!\n",
            "3번 학생 박지성, 출석 했다면 출석이라고 입력: ㅇㅇ\n",
            "박지성 출석 실패! 다시 확인해주세요.\n",
            "4번 학생 김연아, 출석 했다면 출석이라고 입력: 출석\n",
            "김연아 출석 완료!\n"
          ]
        }
      ]
    },
    {
      "cell_type": "markdown",
      "source": [
        "[과제1] 다음 `<blank>`에 들어갈 내용을 채워서 제출하세요\n"
      ],
      "metadata": {
        "id": "6hAB3WSY85T2"
      }
    },
    {
      "cell_type": "code",
      "source": [
        "a = 5   #데이터 유형: int\n",
        "b = 4   #데이터 유형: int\n",
        "\n",
        "c = 3.1 #데이터 유형: float\n",
        "d = '파이썬 수업' # 데이터 유형: str\n",
        "e = a>b  #  데이터 유형:bool\n",
        "\n",
        "#a와 b 덧셈 출력\n",
        "print( a+b )\n",
        "\n",
        "#a에서 b 빼기 출력\n",
        "print( a-b )\n",
        "\n",
        "#a와 b 곱셈 출력\n",
        "print(a*b)\n",
        "\n",
        "#d 문자열 출력\n",
        "print(d)\n",
        "\n",
        "#bool e 출력\n",
        "print(e)\n",
        "\n",
        "# 데이터 타입 출력\n",
        "\n",
        "print(type(a))\n",
        "print(type(c))\n",
        "print(type(d))\n",
        "print(type(e))"
      ],
      "metadata": {
        "id": "IYf4TGTQ83hH",
        "colab": {
          "base_uri": "https://localhost:8080/"
        },
        "outputId": "abf256b0-5df3-4ef6-9e95-d3c17de8a093"
      },
      "execution_count": 13,
      "outputs": [
        {
          "output_type": "stream",
          "name": "stdout",
          "text": [
            "9\n",
            "1\n",
            "20\n",
            "파이썬 수업\n",
            "True\n",
            "<class 'int'>\n",
            "<class 'float'>\n",
            "<class 'str'>\n",
            "<class 'bool'>\n"
          ]
        }
      ]
    },
    {
      "cell_type": "markdown",
      "source": [
        "[과제2] 다음 `<blank>`에 들어갈 내용을 채워서 제출하세요"
      ],
      "metadata": {
        "id": "CQJopjXm851f"
      }
    },
    {
      "cell_type": "code",
      "source": [
        "#리스트 생성\n",
        "a = <blank>     #'[ ]' (대괄호) 이용\n",
        "b = <blank>     #list() 함수 이용\n",
        "c = <blank>    #원소가 test인 리스트 생성\n",
        "d = <blank>   #원소가 1,2, test 인 리스트 생성\n",
        "\n",
        "print(a)\n",
        "print(b)\n",
        "print(c)\n",
        "print(d)"
      ],
      "metadata": {
        "id": "FlKnDFBT86JJ"
      },
      "execution_count": null,
      "outputs": []
    },
    {
      "cell_type": "markdown",
      "source": [
        "[과제3] 다음 보기를 수행하는 코드를 작성하세요\n",
        "\n",
        " a = ['A', 'B', 'C', 'D', 'E', 'F']\n",
        " * (1) 'C' 인덱싱하여 출력하는 코드 작성\n",
        " * (2) 'E'를 인덱싱하여 출력하는 코드 작성\n",
        " * (3) 마지막 원소를 출력하는 코드 작성   \n",
        " * (4) 'B'에서 'D'까지 연속으로 출력하는 코드 작성 (슬라이싱 이용)\n",
        " * (5) 'C'를 'H'변경하는 코드 작성\n",
        " * (6) 최종 리스트 a 출력하는 코드 작성"
      ],
      "metadata": {
        "id": "60wls885F2zB"
      }
    },
    {
      "cell_type": "code",
      "source": [
        "a = ['A', 'B', 'C', 'D', 'E', 'F']\n",
        "\n",
        "print(a[2]) # (1)\n",
        "\n",
        "print(a[4]) # (2)\n",
        "\n",
        "print(a[-1])  # (3)\n",
        "\n",
        "print(a[1:4]) # (4)\n",
        "\n",
        "a[2] = 'H'  # (5)\n",
        "\n",
        "print(a) #(6)"
      ],
      "metadata": {
        "id": "q9VeeXD_F2XG",
        "colab": {
          "base_uri": "https://localhost:8080/"
        },
        "outputId": "af38ad5c-d426-4a5b-e789-57d28d6c7868"
      },
      "execution_count": 14,
      "outputs": [
        {
          "output_type": "stream",
          "name": "stdout",
          "text": [
            "C\n",
            "E\n",
            "F\n",
            "['B', 'C', 'D']\n",
            "['A', 'B', 'H', 'D', 'E', 'F']\n"
          ]
        }
      ]
    },
    {
      "cell_type": "markdown",
      "source": [
        "[과제4] 리스트의 멤버함수를 활용하여 다음 보기를 수행하는 코드를 작성하세요\n",
        "a = [9, 10, 7, 19, 1]\n",
        "b = [2, 20, 21, 7, 8]\n",
        "\n",
        "* (1) 리스트 a 끝에 '11' 추가 후 리스트 a 출력\n",
        "* (2) 리스트 a에 리스트 b연장한 후, 리스트 a 출력\n",
        "* (3) 리스트 a 정렬 후, 리스트 a 출력(인수를 생략하하면 오름차순 정렬) - sort() 이용\n",
        "* (4) 0부터 2까지의 정수 리스트 c 생성 후, 리스트 c 출력\n",
        "* (5) 1부터 시작해서 11까지 2씩 증가하는 정수 리스트 d 생성 후, 리스트 d 출력\n",
        "\n",
        "> 힌트:\n",
        "> * append() : 리스트의 끝에 항목을 추가함\n",
        "> * extend() : 리스트를 연장, '+; 와 동일\n",
        "> * sort() : 리스트 자체를 내부적으로 정렬 (reverse= True(내림차순)/False(오름차순))\n",
        "> * range(start, stop, step): 함수를 이용한 리스트 생성\n",
        "    - **start** 값부터 **stop-1**까지, **step 간격**으로 숫자 생성"
      ],
      "metadata": {
        "id": "oXJBRBuKG6I0"
      }
    },
    {
      "cell_type": "code",
      "source": [
        "a = [9, 10, 7, 19, 1]\n",
        "b = [2, 20, 21, 7, 8]\n",
        "\n",
        "a.append(11) #(1) 리스트 a에 '11' 추가 (append)\n",
        "print(a)\n",
        "\n",
        "a.extend(b)   #(2) 리스트 a에 리스트 b연장 (extend)\n",
        "print(a)\n",
        "\n",
        "a.sort()    # (3) 리스트 a 정렬 (인수를 생략하하면 오름차순 정렬)(sort)\n",
        "print(a)\n",
        "\n",
        "c = list(range(3)) # (4)0부터 2까지의 정수 리스트 c 생성 후, 리스트 c 출력\n",
        "print(c)\n",
        "\n",
        "d = list(range(1, 12, 2))         #(5) 1부터 시작해서 11까지 2씩 증가하는 숫자들의 리스트 생성 (range)\n",
        "print(d)"
      ],
      "metadata": {
        "id": "k3tiD6ZRHSxB",
        "colab": {
          "base_uri": "https://localhost:8080/"
        },
        "outputId": "888f438e-43f7-486b-b930-2fbb462826f4"
      },
      "execution_count": 15,
      "outputs": [
        {
          "output_type": "stream",
          "name": "stdout",
          "text": [
            "[9, 10, 7, 19, 1, 11]\n",
            "[9, 10, 7, 19, 1, 11, 2, 20, 21, 7, 8]\n",
            "[1, 2, 7, 7, 8, 9, 10, 11, 19, 20, 21]\n",
            "[0, 1, 2]\n",
            "[1, 3, 5, 7, 9, 11]\n"
          ]
        }
      ]
    }
  ]
}